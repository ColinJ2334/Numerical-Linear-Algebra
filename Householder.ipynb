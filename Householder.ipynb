{
 "cells": [
  {
   "cell_type": "code",
   "execution_count": 5,
   "metadata": {},
   "outputs": [
    {
     "data": {
      "text/plain": [
       "(array([[ 2.33460000e+00,  1.13840000e+00,  2.56060000e+00,\n",
       "          1.45070000e+00],\n",
       "        [-3.15549638e+00,  4.63120485e+00,  3.07044889e-01,\n",
       "         -3.57045281e-01],\n",
       "        [-4.44089210e-16, -4.70911772e-01,  6.36894705e-01,\n",
       "          6.10812527e-02],\n",
       "        [ 0.00000000e+00,  1.11022302e-16,  6.10812527e-02,\n",
       "          1.44900450e-01]]),\n",
       " array([[ 0.        ,  0.        ,  0.        ,  0.        ],\n",
       "        [ 0.82485372,  0.        ,  0.        ,  0.        ],\n",
       "        [ 0.49188901,  0.9088515 ,  0.        ,  0.        ],\n",
       "        [ 0.2786782 , -0.41711982,  0.        ,  0.        ]]))"
      ]
     },
     "execution_count": 5,
     "metadata": {},
     "output_type": "execute_result"
    }
   ],
   "source": [
    "import numpy as np\n",
    "\n",
    "def tridiagonalize(A):\n",
    "    \"\"\"\n",
    "    Given a symmetric matrix A, returns its tridiagonal form using Householder reflectors.\n",
    "    \"\"\"\n",
    "    n = A.shape[0]\n",
    "    V = np.zeros_like(A)\n",
    "    H = np.copy(A)\n",
    "\n",
    "    for k in range(n-2):\n",
    "        # Compute Householder reflector to zero out subdiagonal elements\n",
    "        x = H[k+1:, k]\n",
    "        v = np.sign(x[0]) * np.linalg.norm(x, ord=2) * np.eye(len(x))[0] + x\n",
    "        v /= np.linalg.norm(v, ord=2)\n",
    "\n",
    "        # Apply Householder reflector to H\n",
    "        H[k+1:, k:] -= 2 * np.outer(v, v.T).dot(H[k+1:, k:])\n",
    "        H[:, k+1:][k+1:, :] -= 2 * H[:, k+1:][k+1:, :].dot(np.outer(v, v.T))\n",
    "\n",
    "        # Store Householder reflector in V for later use\n",
    "        V[k+1:, k] = v\n",
    "\n",
    "    return H, V\n",
    "\n",
    "A = np.array([[2.3346, 1.1384, 2.5606, 1.4507],\n",
    "[1.1384, 0.7860, 1.2743, 0.9531],\n",
    "[2.5606, 1.2743, 2.8147, 1.6487],\n",
    "[1.4507, 0.9531, 1.6487, 1.8123]])\n",
    "\n"
   ]
  }
 ],
 "metadata": {
  "kernelspec": {
   "display_name": "Python 3",
   "language": "python",
   "name": "python3"
  },
  "language_info": {
   "codemirror_mode": {
    "name": "ipython",
    "version": 3
   },
   "file_extension": ".py",
   "mimetype": "text/x-python",
   "name": "python",
   "nbconvert_exporter": "python",
   "pygments_lexer": "ipython3",
   "version": "3.9.5"
  },
  "orig_nbformat": 4
 },
 "nbformat": 4,
 "nbformat_minor": 2
}
