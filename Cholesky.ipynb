{
 "cells": [
  {
   "cell_type": "code",
   "execution_count": 1,
   "metadata": {},
   "outputs": [
    {
     "data": {
      "text/plain": [
       "(array([[0.28460499, 0.698512  , 0.44552979, 0.58853501],\n",
       "        [0.        , 0.37759898, 0.24733144, 0.42187941],\n",
       "        [0.        , 0.        , 0.68200467, 0.25798369],\n",
       "        [0.        , 0.        , 0.        , 0.29981448]]),\n",
       " array([[0.28460499, 0.        , 0.        , 0.        ],\n",
       "        [0.698512  , 0.37759898, 0.        , 0.        ],\n",
       "        [0.44552979, 0.24733144, 0.68200467, 0.        ],\n",
       "        [0.58853501, 0.42187941, 0.25798369, 0.29981448]]))"
      ]
     },
     "execution_count": 1,
     "metadata": {},
     "output_type": "execute_result"
    }
   ],
   "source": [
    "import numpy as np\n",
    "import scipy.linalg\n",
    "\n",
    "A = np.array([[0.081 , 0.1988, 0.1268, 0.1675],\n",
    "        [0.1988, 0.6305, 0.4046, 0.5704],\n",
    "        [0.1268, 0.4046, 0.7248, 0.5425],\n",
    "        [0.1675, 0.5704, 0.5425, 0.6808]])\n",
    "\n",
    "def Chol(A):\n",
    "    m = A.shape[0]\n",
    "    R = np.triu(A)\n",
    "\n",
    "    for k in range(m):\n",
    "        for j in range(k+1, m):\n",
    "            R[j,j:] = R[j,j:] - R[k,j:]*R[k,j]/R[k,k]\n",
    "\n",
    "        R[k,k:] = R[k,k:] / np.sqrt(R[k,k])\n",
    "\n",
    "    return R, np.transpose(R)\n",
    "\n",
    "scipy.linalg.lu(A)\n",
    "\n",
    "Chol(A)\n"
   ]
  }
 ],
 "metadata": {
  "kernelspec": {
   "display_name": "Python 3",
   "language": "python",
   "name": "python3"
  },
  "language_info": {
   "codemirror_mode": {
    "name": "ipython",
    "version": 3
   },
   "file_extension": ".py",
   "mimetype": "text/x-python",
   "name": "python",
   "nbconvert_exporter": "python",
   "pygments_lexer": "ipython3",
   "version": "3.9.5"
  },
  "orig_nbformat": 4
 },
 "nbformat": 4,
 "nbformat_minor": 2
}
