{
 "cells": [
  {
   "cell_type": "code",
   "execution_count": 3,
   "metadata": {},
   "outputs": [
    {
     "name": "stdout",
     "output_type": "stream",
     "text": [
      "[-0.00461723  0.12814403  0.058855    0.10965899]\n",
      "[-0.00461723  0.12814403  0.058855    0.10965899]\n"
     ]
    }
   ],
   "source": [
    "## MP 6 pr. 4a) \n",
    "import numpy as np\n",
    "\n",
    "A = np.array([[2.3346, 1.1384, 2.5606, 1.4507], [1.1384, 0.7860, 1.2743, 0.9531], \n",
    "              [2.5606, 1.2743, 2.8147, 1.6487], [1.4507, 0.9531, 1.6487, 1.8123]]) + 5*np.eye(4)\n",
    "\n",
    "b = np.array([0.4218, 0.9157, 0.7922, 0.9595])\n",
    "\n",
    "def jacobi(A, b, K):\n",
    "    m = A.shape[0]\n",
    "    D = np.diag(np.diag(A))\n",
    "    A1 = A - D\n",
    "    x = np.zeros(m)\n",
    "    D_inv = np.linalg.inv(D)\n",
    "    I = np.eye(m)\n",
    "    for i in range(K):\n",
    "        x = np.matmul(D_inv, b) + np.matmul(I - np.matmul(D_inv, A), x)\n",
    "    return x\n",
    "\n",
    "print(jacobi(A, b, 45))\n",
    "print(np.linalg.solve(A, b))"
   ]
  },
  {
   "cell_type": "code",
   "execution_count": 4,
   "metadata": {},
   "outputs": [
    {
     "name": "stdout",
     "output_type": "stream",
     "text": [
      "[-0.00461723  0.12814403  0.058855    0.10965899]\n",
      "[-0.00461723  0.12814403  0.058855    0.10965899]\n"
     ]
    }
   ],
   "source": [
    "def Gauss_Seidel(A, b, K):\n",
    "    m = A.shape[0]\n",
    "    N = np.tril(A)\n",
    "    P = np.triu(A, k = 1)\n",
    "    x = np.zeros(m)\n",
    "    for i in range(K):\n",
    "        #x = np.matmul(np.linalg.inv(N), (b - np.matmul(P, x)))\n",
    "        x = np.linalg.solve(N, b - np.matmul(P, x))  \n",
    "    return x\n",
    "\n",
    "x = Gauss_Seidel(A, b , 13)\n",
    "\n",
    "print(np.linalg.solve(A, b))\n",
    "print(x)"
   ]
  },
  {
   "cell_type": "code",
   "execution_count": 5,
   "metadata": {},
   "outputs": [
    {
     "name": "stdout",
     "output_type": "stream",
     "text": [
      "[-0.00461723  0.12814403  0.058855    0.10965899]\n",
      "[-0.00461723  0.12814403  0.058855    0.10965899]\n"
     ]
    }
   ],
   "source": [
    "def SOM(A, b, K, w):\n",
    "    m = A.shape[0]\n",
    "    P = np.triu(A, k=1)\n",
    "    D = np.diag(np.diag(A))\n",
    "    L = np.tril(A, k=-1)\n",
    "    x = np.zeros(m)\n",
    "    boo = np.linalg.inv(D + w*L)\n",
    "    for i in range(K):\n",
    "        x = np.matmul(boo, np.matmul((1-w)*D - w*P, x)) + np.matmul(boo, w*b)\n",
    "\n",
    "    return x\n",
    "x = SOM(A, b, 40, 0.5)\n",
    "\n",
    "print(np.linalg.solve(A, b))\n",
    "print(x)"
   ]
  },
  {
   "cell_type": "code",
   "execution_count": 8,
   "metadata": {},
   "outputs": [
    {
     "data": {
      "image/png": "[encoded data removed]",
      "text/plain": [
       "<Figure size 432x288 with 1 Axes>"
      ]
     },
     "metadata": {
      "needs_background": "light"
     },
     "output_type": "display_data"
    }
   ],
   "source": [
    "import matplotlib.pyplot as plt\n",
    "\n",
    "K = [i for i in range(50)]\n",
    "jacobi_error = []\n",
    "Gauss_error = []\n",
    "SOM_error = []\n",
    "for k in K:\n",
    "    j = jacobi(A, b, k)\n",
    "    G = Gauss_Seidel(A, b, k)\n",
    "    S = SOM(A, b, k, 0.5)\n",
    "    T = np.linalg.solve(A, b)\n",
    "\n",
    "    jacobi_error.append(np.linalg.norm(j - T))\n",
    "    Gauss_error.append(np.linalg.norm(G - T))\n",
    "    SOM_error.append(np.linalg.norm(S - T))\n",
    "\n",
    "plt.figure()\n",
    "plt.plot(K, jacobi_error, label='Jacobi')\n",
    "plt.plot(K, Gauss_error, label='Gauss-Seidel')\n",
    "plt.plot(K, SOM_error, label='SOM')\n",
    "plt.xlabel('Number of iterations')\n",
    "plt.ylabel('Error')\n",
    "plt.title('Convergence of iterative solvers')\n",
    "plt.legend()\n",
    "plt.show()"
   ]
  },
  {
   "cell_type": "code",
   "execution_count": 13,
   "metadata": {},
   "outputs": [
    {
     "name": "stdout",
     "output_type": "stream",
     "text": [
      "[-0.00461723  0.12814403  0.058855    0.10965899]\n",
      "[ 8.70595890e+54 -9.74522311e+54 -4.22463413e+54  2.33699598e+55]\n",
      "[-4.44513234e+13  4.17206527e+14 -3.66556054e+14  4.60700372e+14]\n"
     ]
    },
    {
     "data": {
      "text/plain": [
       "'\\nWe can see that for $\\\\omega$ values greater than 2 we get divergence\\n'"
      ]
     },
     "execution_count": 13,
     "metadata": {},
     "output_type": "execute_result"
    }
   ],
   "source": [
    "### Pr. 4b)\n",
    "\n",
    "x = SOM(A, b, 100, 4)\n",
    "x1 = SOM(A, b, 45, 3)\n",
    "print(np.linalg.solve(A, b))\n",
    "print(x)\n",
    "print(x1)\n",
    "\n",
    "'''\n",
    "We can see that for $\\omega$ values greater than 2 we get divergence\n",
    "'''"
   ]
  },
  {
   "cell_type": "code",
   "execution_count": 14,
   "metadata": {},
   "outputs": [
    {
     "name": "stdout",
     "output_type": "stream",
     "text": [
      "jacobi took 175.000836 seconds\n",
      "Gauss_Seidel took 17.581800 seconds\n",
      "SOM took 14.168801 seconds\n",
      "solve took 1.254335 seconds\n"
     ]
    }
   ],
   "source": [
    "import time\n",
    "def Iterative_Race(n):\n",
    "    B = np.random.rand(n, n)\n",
    "    B = 0.5 * (B + B.T)\n",
    "    B = B + n * np.eye(n)\n",
    "    c = np.random.rand(n)\n",
    "\n",
    "    funcs = [jacobi, Gauss_Seidel, SOM, np.linalg.solve]\n",
    "    args = [(B, c, 45), (B,c, 15), (B, c, 45, 0.5), (B, c)]\n",
    "    results = {}\n",
    "\n",
    "    for func, arg in zip(funcs, args):\n",
    "        start_time = time.time()\n",
    "        func(*arg)\n",
    "        elapsed_time = time.time() - start_time\n",
    "        results[func.__name__] = elapsed_time\n",
    "\n",
    "    for name, elapsed_time in results.items():\n",
    "        print(f\"{name} took {elapsed_time:.6f} seconds\")\n",
    "\n",
    "    return None\n",
    "Iterative_Race(5000)"
   ]
  }
 ],
 "metadata": {
  "kernelspec": {
   "display_name": "Python 3",
   "language": "python",
   "name": "python3"
  },
  "language_info": {
   "codemirror_mode": {
    "name": "ipython",
    "version": 3
   },
   "file_extension": ".py",
   "mimetype": "text/x-python",
   "name": "python",
   "nbconvert_exporter": "python",
   "pygments_lexer": "ipython3",
   "version": "3.9.5"
  },
  "orig_nbformat": 4
 },
 "nbformat": 4,
 "nbformat_minor": 2
}
