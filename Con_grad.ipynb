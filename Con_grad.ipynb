{
 "cells": [
  {
   "cell_type": "code",
   "execution_count": 466,
   "metadata": {},
   "outputs": [
    {
     "name": "stdout",
     "output_type": "stream",
     "text": [
      "[-135.6854323    -4.82857254  129.48579386   -6.11530056]\n"
     ]
    }
   ],
   "source": [
    "#MP 6 pr. 2\n",
    "import numpy as np\n",
    "\n",
    "def Con_Grad(A, b, K):\n",
    "    m, m = A.shape\n",
    "    if m != b.shape[0]:\n",
    "        print('error b must equal m')\n",
    "    else:\n",
    "        x = 0\n",
    "        r = -b\n",
    "        d = -b\n",
    "        for i in range(K):\n",
    "            alpha = np.dot(r,d)/(np.dot(d, np.matmul(A,d)))\n",
    "            x = x - alpha*d\n",
    "            r = np.matmul(A,x) - b\n",
    "            beta = np.dot(r, np.matmul(A,d))/(np.dot(d, np.matmul(A,d)))\n",
    "            d = r - beta*d\n",
    "        return x\n",
    "    return None\n",
    "        \n",
    "A = np.array([[2.3346, 1.1384, 2.5606, 1.4507], [1.1384, 0.7860, 1.2743, 0.9531], \n",
    "              [2.5606, 1.2743, 2.8147, 1.6487], [1.4507, 0.9531, 1.6487, 1.8123]])\n",
    "\n",
    "b = np.array([0.4218, 0.9157, 0.7922, 0.9595])\n",
    "\n",
    "print(Con_Grad(A, b, 5))"
   ]
  }
 ],
 "metadata": {
  "kernelspec": {
   "display_name": "Python 3",
   "language": "python",
   "name": "python3"
  },
  "language_info": {
   "codemirror_mode": {
    "name": "ipython",
    "version": 3
   },
   "file_extension": ".py",
   "mimetype": "text/x-python",
   "name": "python",
   "nbconvert_exporter": "python",
   "pygments_lexer": "ipython3",
   "version": "3.9.5"
  },
  "orig_nbformat": 4
 },
 "nbformat": 4,
 "nbformat_minor": 2
}
